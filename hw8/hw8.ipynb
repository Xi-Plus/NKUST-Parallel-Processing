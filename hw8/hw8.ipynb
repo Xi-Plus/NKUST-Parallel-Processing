{
 "cells": [
  {
   "cell_type": "code",
   "execution_count": 1,
   "metadata": {},
   "outputs": [],
   "source": [
    "textFile = sc.textFile(\"file:/usr/local/spark/README.md\")"
   ]
  },
  {
   "cell_type": "code",
   "execution_count": 2,
   "metadata": {},
   "outputs": [
    {
     "data": {
      "text/plain": [
       "104"
      ]
     },
     "execution_count": 2,
     "metadata": {},
     "output_type": "execute_result"
    }
   ],
   "source": [
    "textFile.count()"
   ]
  },
  {
   "cell_type": "code",
   "execution_count": 3,
   "metadata": {},
   "outputs": [
    {
     "data": {
      "text/plain": [
       "[3, 1, 2, 5, 5]"
      ]
     },
     "execution_count": 3,
     "metadata": {},
     "output_type": "execute_result"
    }
   ],
   "source": [
    "intRDD=sc.parallelize([3, 1, 2, 5, 5])\n",
    "intRDD.collect()"
   ]
  },
  {
   "cell_type": "code",
   "execution_count": 4,
   "metadata": {},
   "outputs": [
    {
     "data": {
      "text/plain": [
       "['Apple', 'Orange', 'Banana', 'Grape', 'Apple']"
      ]
     },
     "execution_count": 4,
     "metadata": {},
     "output_type": "execute_result"
    }
   ],
   "source": [
    "stringRDD=sc.parallelize([\"Apple\", \"Orange\", \"Banana\", \"Grape\", \"Apple\"])\n",
    "stringRDD.collect()"
   ]
  },
  {
   "cell_type": "code",
   "execution_count": 5,
   "metadata": {},
   "outputs": [],
   "source": [
    "def addOne(x):\n",
    "    return (x+1)"
   ]
  },
  {
   "cell_type": "code",
   "execution_count": 6,
   "metadata": {},
   "outputs": [
    {
     "data": {
      "text/plain": [
       "[4, 2, 3, 6, 6]"
      ]
     },
     "execution_count": 6,
     "metadata": {},
     "output_type": "execute_result"
    }
   ],
   "source": [
    "intRDD.map(addOne).collect()"
   ]
  },
  {
   "cell_type": "code",
   "execution_count": 7,
   "metadata": {},
   "outputs": [
    {
     "data": {
      "text/plain": [
       "[4, 2, 3, 6, 6]"
      ]
     },
     "execution_count": 7,
     "metadata": {},
     "output_type": "execute_result"
    }
   ],
   "source": [
    "intRDD.map(lambda x : x + 1).collect()"
   ]
  },
  {
   "cell_type": "code",
   "execution_count": 8,
   "metadata": {},
   "outputs": [
    {
     "data": {
      "text/plain": [
       "['fruit: Apple',\n",
       " 'fruit: Orange',\n",
       " 'fruit: Banana',\n",
       " 'fruit: Grape',\n",
       " 'fruit: Apple']"
      ]
     },
     "execution_count": 8,
     "metadata": {},
     "output_type": "execute_result"
    }
   ],
   "source": [
    "stringRDD.map(lambda x : \"fruit: \" + x).collect()"
   ]
  },
  {
   "cell_type": "code",
   "execution_count": 9,
   "metadata": {},
   "outputs": [
    {
     "data": {
      "text/plain": [
       "[1, 2]"
      ]
     },
     "execution_count": 9,
     "metadata": {},
     "output_type": "execute_result"
    }
   ],
   "source": [
    "intRDD.filter(lambda x : x < 3).collect()"
   ]
  },
  {
   "cell_type": "code",
   "execution_count": 10,
   "metadata": {},
   "outputs": [
    {
     "data": {
      "text/plain": [
       "[3]"
      ]
     },
     "execution_count": 10,
     "metadata": {},
     "output_type": "execute_result"
    }
   ],
   "source": [
    "intRDD.filter(lambda x : x == 3).collect()"
   ]
  },
  {
   "cell_type": "code",
   "execution_count": 11,
   "metadata": {},
   "outputs": [
    {
     "data": {
      "text/plain": [
       "[3, 2]"
      ]
     },
     "execution_count": 11,
     "metadata": {},
     "output_type": "execute_result"
    }
   ],
   "source": [
    "intRDD.filter(lambda x : 1 < x and x < 5).collect()"
   ]
  },
  {
   "cell_type": "code",
   "execution_count": 12,
   "metadata": {},
   "outputs": [
    {
     "data": {
      "text/plain": [
       "[1, 2, 5, 5]"
      ]
     },
     "execution_count": 12,
     "metadata": {},
     "output_type": "execute_result"
    }
   ],
   "source": [
    "intRDD.filter(lambda x : x >= 5 or x < 3).collect()"
   ]
  },
  {
   "cell_type": "code",
   "execution_count": 13,
   "metadata": {},
   "outputs": [
    {
     "data": {
      "text/plain": [
       "['Orange', 'Grape']"
      ]
     },
     "execution_count": 13,
     "metadata": {},
     "output_type": "execute_result"
    }
   ],
   "source": [
    "stringRDD.filter(lambda x : \"ra\" in x).collect()"
   ]
  },
  {
   "cell_type": "code",
   "execution_count": 14,
   "metadata": {},
   "outputs": [
    {
     "data": {
      "text/plain": [
       "[1, 2, 3, 5]"
      ]
     },
     "execution_count": 14,
     "metadata": {},
     "output_type": "execute_result"
    }
   ],
   "source": [
    "intRDD.distinct().collect()"
   ]
  },
  {
   "cell_type": "code",
   "execution_count": 15,
   "metadata": {},
   "outputs": [
    {
     "data": {
      "text/plain": [
       "['Orange', 'Grape', 'Apple', 'Banana']"
      ]
     },
     "execution_count": 15,
     "metadata": {},
     "output_type": "execute_result"
    }
   ],
   "source": [
    "stringRDD.distinct().collect()"
   ]
  },
  {
   "cell_type": "code",
   "execution_count": 16,
   "metadata": {},
   "outputs": [
    {
     "name": "stdout",
     "output_type": "stream",
     "text": [
      "even [2]\n",
      "odd [1, 3, 5, 5]\n"
     ]
    }
   ],
   "source": [
    "sRDD=intRDD.randomSplit([0.4, 0.6])\n",
    "sRDD[0].collect()\n",
    "sRDD[1].collect()\n",
    "gRDD=intRDD.groupBy(lambda x : \"even\" if (x%2==0) else \"odd\").collect()\n",
    "print(gRDD[0][0], sorted(gRDD[0][1]))\n",
    "print(gRDD[1][0], sorted(gRDD[1][1]))"
   ]
  },
  {
   "cell_type": "code",
   "execution_count": 18,
   "metadata": {},
   "outputs": [
    {
     "name": "stdout",
     "output_type": "stream",
     "text": [
      "[(3, 5), (3, 6), (1, 5), (1, 6), (2, 5), (2, 6), (5, 5), (5, 6), (5, 5), (5, 6)]\n"
     ]
    }
   ],
   "source": [
    "intRDD1=sc.parallelize([3, 1, 2, 5, 5])\n",
    "intRDD2=sc.parallelize([5, 6])\n",
    "intRDD3=sc.parallelize([2, 7])\n",
    "intRDD1.union(intRDD2).union(intRDD3).collect()\n",
    "intRDD1.intersection(intRDD2).collect()\n",
    "intRDD1.subtract(intRDD2).collect()\n",
    "print(intRDD1.cartesian(intRDD2).collect())"
   ]
  },
  {
   "cell_type": "code",
   "execution_count": 23,
   "metadata": {},
   "outputs": [
    {
     "name": "stdout",
     "output_type": "stream",
     "text": [
      "3\n",
      "[3, 1]\n",
      "[1, 2, 3]\n",
      "[5, 5, 3]\n",
      "(count: 5, mean: 3.2, stdev: 1.6, max: 5, min: 1)\n",
      "1\n",
      "5\n",
      "1.6\n",
      "5\n",
      "16\n",
      "3.2\n"
     ]
    }
   ],
   "source": [
    "print(intRDD.first())\n",
    "print(intRDD.take(2))\n",
    "print(intRDD.takeOrdered(3))\n",
    "print(intRDD.takeOrdered(3, key=lambda x : -x))\n",
    "print(intRDD.stats())\n",
    "print(intRDD.min())\n",
    "print(intRDD.max())\n",
    "print(intRDD.stdev())\n",
    "print(intRDD.count())\n",
    "print(intRDD.sum())\n",
    "print(intRDD.mean())"
   ]
  },
  {
   "cell_type": "code",
   "execution_count": 24,
   "metadata": {},
   "outputs": [
    {
     "data": {
      "text/plain": [
       "[(1, 2), (3, 10), (5, 6)]"
      ]
     },
     "execution_count": 24,
     "metadata": {},
     "output_type": "execute_result"
    }
   ],
   "source": [
    "kvRDD1=sc.parallelize([(3, 4), (3, 6), (5, 6), (1, 2)])\n",
    "kvRDD1.collect()\n",
    "kvRDD1.keys().collect()\n",
    "kvRDD1.values().collect()\n",
    "kvRDD1.filter(lambda keyValue : keyValue[0] < 5).collect()\n",
    "kvRDD1.filter(lambda keyValue : keyValue[1] < 5).collect()\n",
    "kvRDD1.mapValues(lambda x : x * x).collect()\n",
    "kvRDD1.sortByKey(ascending=True).collect()\n",
    "kvRDD1.sortByKey().collect()\n",
    "kvRDD1.sortByKey(ascending=False).collect()\n",
    "kvRDD1.reduceByKey(lambda x, y : x + y).collect()"
   ]
  },
  {
   "cell_type": "code",
   "execution_count": 25,
   "metadata": {},
   "outputs": [
    {
     "data": {
      "text/plain": [
       "[(1, 2), (5, 6)]"
      ]
     },
     "execution_count": 25,
     "metadata": {},
     "output_type": "execute_result"
    }
   ],
   "source": [
    "kvRDD1=sc.parallelize([(3, 4), (3, 6), (5, 6), (1, 2)])\n",
    "kvRDD2=sc.parallelize([(3, 8)])\n",
    "kvRDD1.collect()\n",
    "kvRDD2.collect()\n",
    "kvRDD1.join(kvRDD2).collect()\n",
    "kvRDD1.leftOuterJoin(kvRDD2).collect()\n",
    "kvRDD1.rightOuterJoin(kvRDD2).collect()\n",
    "kvRDD1.subtractByKey(kvRDD2).collect()"
   ]
  },
  {
   "cell_type": "code",
   "execution_count": 29,
   "metadata": {},
   "outputs": [
    {
     "name": "stdout",
     "output_type": "stream",
     "text": [
      "(3, 4)\n",
      "[(3, 4), (3, 6)]\n",
      "(3, 4)\n",
      "3\n",
      "4\n",
      "defaultdict(<class 'int'>, {3: 2, 5: 1, 1: 1})\n",
      "{3: 6, 5: 6, 1: 2}\n",
      "<class 'dict'>\n",
      "6\n",
      "2\n",
      "[4, 6]\n",
      "[6]\n"
     ]
    }
   ],
   "source": [
    "print(kvRDD1.first())\n",
    "print(kvRDD1.take(2))\n",
    "kvFirst=kvRDD1.first()\n",
    "print(kvFirst)\n",
    "print(kvFirst[0])\n",
    "print(kvFirst[1])\n",
    "print(kvRDD1.countByKey())\n",
    "KV=kvRDD1.collectAsMap()\n",
    "print(KV)\n",
    "print(type(KV))\n",
    "print(KV[3])\n",
    "print(KV[1])\n",
    "print(kvRDD1.lookup(3))\n",
    "print(kvRDD1.lookup(5))"
   ]
  },
  {
   "cell_type": "code",
   "execution_count": 30,
   "metadata": {},
   "outputs": [
    {
     "name": "stdout",
     "output_type": "stream",
     "text": [
      "字典 : {1: 'apple', 2: 'orange', 3: 'banana', 4: 'grape'}\n",
      "水果編號 : [2, 4, 1, 3]\n",
      "使用字典進行轉換 =>\n",
      "水果名稱 : ['orange', 'grape', 'apple', 'banana']\n",
      "對照表 : {1: 'apple', 2: 'orange', 3: 'banana', 4: 'grape'}\n",
      "字典 : {1: 'apple', 2: 'orange', 3: 'banana', 4: 'grape'}\n",
      "水果編號 : [2, 4, 1, 3]\n",
      "使用Broadcast 廣播變數字典進行轉換 =>\n",
      "水果名稱 : ['orange', 'grape', 'apple', 'banana']\n"
     ]
    }
   ],
   "source": [
    "kvFruit=sc.parallelize([(1, \"apple\"), (2, \"orange\"), (3, \"banana\"), (4, \"grape\")])\n",
    "fruitMap=kvFruit.collectAsMap()\n",
    "print(\"字典 : \" + str(fruitMap))\n",
    "fruitIDs=sc.parallelize([2, 4, 1, 3])\n",
    "print(\"水果編號 : \" + str(fruitIDs.collect()))\n",
    "print(\"使用字典進行轉換 =>\")\n",
    "fruitNames=fruitIDs.map(lambda x : fruitMap[x]).collect()\n",
    "print(\"水果名稱 : \" + str(fruitNames))\n",
    "\n",
    "kvFruit=sc.parallelize([(1, \"apple\"), (2, \"orange\"), (3, \"banana\"), (4, \"grape\")])\n",
    "fruitMap=kvFruit.collectAsMap()\n",
    "print(\"對照表 : \" + str(fruitMap))\n",
    "bcFruitMap=sc.broadcast(fruitMap)\n",
    "print(\"字典 : \" + str(fruitMap))\n",
    "fruitIDs=sc.parallelize([2, 4, 1, 3])\n",
    "print(\"水果編號 : \" + str(fruitIDs.collect()))\n",
    "print(\"使用Broadcast 廣播變數字典進行轉換 =>\")\n",
    "fruitNames=fruitIDs.map(lambda x : bcFruitMap.value[x]).collect()\n",
    "print(\"水果名稱 : \" + str(fruitNames))"
   ]
  },
  {
   "cell_type": "code",
   "execution_count": 31,
   "metadata": {},
   "outputs": [
    {
     "name": "stdout",
     "output_type": "stream",
     "text": [
      "total = 16.0; num = 5; avg = 3.2\n"
     ]
    }
   ],
   "source": [
    "intRDD=sc.parallelize([3, 1, 2, 5, 5])\n",
    "total = sc.accumulator(0.0)\n",
    "num = sc.accumulator(0)\n",
    "intRDD.foreach(lambda i : [total.add(i), num.add(1)])\n",
    "avg = total.value/num.value\n",
    "print(\"total = \" + str(total.value) + \"; num = \" + str(num.value) + \"; avg = \" + str(avg))"
   ]
  },
  {
   "cell_type": "code",
   "execution_count": 33,
   "metadata": {},
   "outputs": [
    {
     "name": "stdout",
     "output_type": "stream",
     "text": [
      "ParallelCollectionRDD[224] at parallelize at PythonRDD.scala:195\n",
      "True\n",
      "ParallelCollectionRDD[224] at parallelize at PythonRDD.scala:195\n",
      "False\n",
      "ParallelCollectionRDD[225] at parallelize at PythonRDD.scala:195\n",
      "True\n",
      "ParallelCollectionRDD[225] at parallelize at PythonRDD.scala:195\n",
      "False\n"
     ]
    }
   ],
   "source": [
    "intRDDMemory=sc.parallelize([3, 1, 2, 5, 5])\n",
    "print(intRDDMemory.persist())\n",
    "print(intRDDMemory.is_cached)\n",
    "print(intRDDMemory.unpersist())\n",
    "print(intRDDMemory.is_cached)\n",
    "\n",
    "from pyspark.storagelevel import StorageLevel\n",
    "intRDDMemoryAndDisk=sc.parallelize([3, 1, 2, 5, 5])\n",
    "print(intRDDMemoryAndDisk.persist(StorageLevel.MEMORY_AND_DISK))\n",
    "print(intRDDMemoryAndDisk.is_cached)\n",
    "print(intRDDMemoryAndDisk.unpersist())\n",
    "print(intRDDMemoryAndDisk.is_cached)"
   ]
  },
  {
   "cell_type": "code",
   "execution_count": 36,
   "metadata": {
    "scrolled": true
   },
   "outputs": [],
   "source": [
    "textFile = sc.textFile(\"file:/home/xiplus/hw8/file01\")\n",
    "stringRDD=textFile.flatMap(lambda line : line.split(\" \"))\n",
    "countsRDD = stringRDD.map(lambda word : (word, 1)).reduceByKey(lambda x, y : x+y)\n",
    "countsRDD.saveAsTextFile(\"file:/home/xiplus/hw8/output\")"
   ]
  },
  {
   "cell_type": "code",
   "execution_count": 37,
   "metadata": {},
   "outputs": [
    {
     "name": "stdout",
     "output_type": "stream",
     "text": [
      "total 16\n",
      "-rw-rw-r-- 1 xiplus    22 Jun 27 12:03 file01\n",
      "-rw-rw-rw- 1 xiplus 13836 Jun 27 12:02 hw8.ipynb\n",
      "drwxrwxrwx 1 xiplus   512 Jun 27 12:04 \u001b[0m\u001b[34;42moutput\u001b[0m/\n",
      "total 0\n",
      "-rw-r--r-- 1 xiplus  0 Jun 27 12:04 _SUCCESS\n",
      "-rw-r--r-- 1 xiplus 37 Jun 27 12:04 part-00000\n",
      "-rw-r--r-- 1 xiplus  0 Jun 27 12:04 part-00001\n",
      "('Hello', 1)\n",
      "('World', 2)\n",
      "('Bye', 1)\n"
     ]
    }
   ],
   "source": [
    "%ll .\n",
    "%ll output\n",
    "%cat output/part-00000\n",
    "%rm -R output"
   ]
  }
 ],
 "metadata": {
  "kernelspec": {
   "display_name": "Python 3",
   "language": "python",
   "name": "python3"
  },
  "language_info": {
   "codemirror_mode": {
    "name": "ipython",
    "version": 3
   },
   "file_extension": ".py",
   "mimetype": "text/x-python",
   "name": "python",
   "nbconvert_exporter": "python",
   "pygments_lexer": "ipython3",
   "version": "3.6.9"
  }
 },
 "nbformat": 4,
 "nbformat_minor": 4
}
